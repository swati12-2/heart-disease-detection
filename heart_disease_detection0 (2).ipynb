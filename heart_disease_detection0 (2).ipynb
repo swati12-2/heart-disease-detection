{
  "nbformat": 4,
  "nbformat_minor": 0,
  "metadata": {
    "colab": {
      "provenance": []
    },
    "kernelspec": {
      "name": "python3",
      "display_name": "Python 3"
    },
    "language_info": {
      "name": "python"
    }
  },
  "cells": [
    {
      "cell_type": "code",
      "execution_count": null,
      "metadata": {
        "id": "foYMPs0BSGm5"
      },
      "outputs": [],
      "source": [
        "import pandas as pd\n",
        "from sklearn.model_selection import train_test_split\n",
        "from sklearn.preprocessing import StandardScaler\n",
        "from sklearn.ensemble import RandomForestClassifier\n",
        "from sklearn.metrics import accuracy_score"
      ]
    },
    {
      "cell_type": "code",
      "source": [
        "df = pd.read_csv('/content/ML102_Dataset - ML102_Dataset.csv')"
      ],
      "metadata": {
        "id": "2kD8i5R-Si-f"
      },
      "execution_count": null,
      "outputs": []
    },
    {
      "cell_type": "code",
      "source": [
        "df.info()\n"
      ],
      "metadata": {
        "id": "KmRX12R4SnaS"
      },
      "execution_count": null,
      "outputs": []
    },
    {
      "cell_type": "code",
      "source": [
        "df.describe()"
      ],
      "metadata": {
        "id": "_Hoik4qrSrqB"
      },
      "execution_count": null,
      "outputs": []
    },
    {
      "cell_type": "code",
      "source": [
        "import seaborn as sns\n",
        "#get correlations of each features in dataset\n",
        "corrmat = df.corr()\n",
        "top_corr_features = corrmat.index\n",
        "sns.set(rc={'figure.figsize':(30,30)})\n",
        "#plot heat map\n",
        "g=sns.heatmap(df[top_corr_features].corr(),annot=True,cmap=\"coolwarm\")"
      ],
      "metadata": {
        "id": "R4lNUWssSyiH"
      },
      "execution_count": null,
      "outputs": []
    },
    {
      "cell_type": "code",
      "source": [
        "import seaborn as sns\n",
        "import matplotlib.pyplot as plt\n",
        "import numpy as np\n",
        "import pandas as pd\n",
        "from sklearn.preprocessing import StandardScaler\n",
        "\n",
        "# Create a DataFrame (example)\n",
        "data = pd.DataFrame({\n",
        "    'cp': np.random.normal(0, 1, 100),\n",
        "    'age': np.random.normal(1, 2, 100),\n",
        "    'sex': np.random.normal(-1, 3, 100)\n",
        "})\n",
        "\n",
        "# Perform feature scaling\n",
        "scaler = StandardScaler()\n",
        "scaled_data = scaler.fit_transform(data)\n",
        "\n",
        "# Convert scaled data back to a DataFrame\n",
        "scaled_df = pd.DataFrame(scaled_data, columns=data.columns)\n",
        "\n",
        "# Plot separate histograms for each column\n",
        "for col in scaled_df.columns:\n",
        "    plt.figure()\n",
        "    sns.histplot(data=scaled_df, x=col, kde=True)\n",
        "    plt.title(f'Histogram of {col}')\n",
        "    plt.show()\n"
      ],
      "metadata": {
        "id": "Dw0ir9KoS9RD"
      },
      "execution_count": null,
      "outputs": []
    },
    {
      "cell_type": "code",
      "source": [
        "import seaborn as sns\n",
        "import matplotlib.pyplot as plt\n",
        "\n",
        "# Set the style to whitegrid\n",
        "sns.set_theme(style='whitegrid')\n",
        "\n",
        "# Create a count plot\n",
        "sns.countplot(x='target', data=df, palette='viridis')\n",
        "plt.show()\n"
      ],
      "metadata": {
        "id": "7g71lsUsd4ks"
      },
      "execution_count": null,
      "outputs": []
    },
    {
      "cell_type": "code",
      "source": [],
      "metadata": {
        "id": "XOPs7A9n2yC1"
      },
      "execution_count": null,
      "outputs": []
    },
    {
      "cell_type": "code",
      "source": [],
      "metadata": {
        "id": "s3cEWHz-24Y-"
      },
      "execution_count": null,
      "outputs": []
    },
    {
      "cell_type": "code",
      "source": [],
      "metadata": {
        "id": "sjuQfw0c258e"
      },
      "execution_count": null,
      "outputs": []
    },
    {
      "cell_type": "code",
      "source": [
        "dataset = pd.get_dummies(df, columns = ['sex', 'cp', 'fbs', 'restecg', 'exang', 'slope', 'ca', 'thal'])"
      ],
      "metadata": {
        "id": "Yrd1bHRGeIuP"
      },
      "execution_count": null,
      "outputs": []
    },
    {
      "cell_type": "code",
      "source": [
        "from sklearn.model_selection import train_test_split\n",
        "from sklearn.preprocessing import StandardScaler\n",
        "from sklearn.pipeline import Pipeline\n",
        "\n",
        "# Specify columns to scale\n",
        "columns_to_scale = ['age', 'trestbps', 'chol', 'thalach', 'oldpeak']\n",
        "\n",
        "# Create a pipeline for feature scaling and splitting\n",
        "pipeline = Pipeline([\n",
        "    ('scaler', StandardScaler()),\n",
        "    ('splitter', 'passthrough')\n",
        "])\n",
        "\n",
        "# Fit the pipeline\n",
        "X_train, X_test, y_train, y_test = train_test_split(pipeline.fit_transform(dataset[columns_to_scale]), dataset['target'], test_size=0.2, random_state=42)\n"
      ],
      "metadata": {
        "id": "jiNPAYdXolmw"
      },
      "execution_count": null,
      "outputs": []
    },
    {
      "cell_type": "code",
      "source": [
        "dataset.head(20)"
      ],
      "metadata": {
        "id": "gDYe1KAOowYi"
      },
      "execution_count": null,
      "outputs": []
    },
    {
      "cell_type": "code",
      "source": [
        "y = dataset['target']\n",
        "X = dataset.drop(['target'], axis = 1)"
      ],
      "metadata": {
        "id": "CvBI6Jeas7ok"
      },
      "execution_count": null,
      "outputs": []
    },
    {
      "cell_type": "code",
      "source": [
        "from sklearn.model_selection import cross_val_score\n",
        "from sklearn.neighbors import KNeighborsClassifier\n",
        "from sklearn.preprocessing import StandardScaler\n",
        "import numpy as np\n",
        "\n",
        "# Perform feature scaling\n",
        "scaler = StandardScaler()\n",
        "X_scaled = scaler.fit_transform(X)\n",
        "\n",
        "knn_scores_scaled = []\n",
        "for k in range(1, 21):\n",
        "    knn_classifier = KNeighborsClassifier(n_neighbors=k)\n",
        "    scores = cross_val_score(knn_classifier, X_scaled, y, cv=10)\n",
        "    knn_scores_scaled.append(scores.mean())\n",
        "\n",
        "# Print the scores\n",
        "for k, score in enumerate(knn_scores_scaled, 1):\n",
        "    print(f\"K={k}, Mean Accuracy (scaled): {score:.4f}\")\n"
      ],
      "metadata": {
        "id": "0-Vrcvj0t0du"
      },
      "execution_count": null,
      "outputs": []
    },
    {
      "cell_type": "code",
      "source": [
        "import matplotlib.pyplot as plt\n",
        "\n",
        "# Plotting the graph\n",
        "plt.figure(figsize=(10, 6))\n",
        "plt.plot(range(1, 21), knn_scores, color='blue', linestyle='solid', marker='o', markerfacecolor='yellow', markersize=10)\n",
        "for i, score in enumerate(knn_scores, 1):\n",
        "    plt.text(i, score, f'{score:.2f}', ha='center', va='bottom', fontsize=9)\n",
        "plt.title('Mean Accuracy vs. k Value')\n",
        "plt.xlabel('K')\n",
        "plt.ylabel('Mean Accuracy')\n",
        "plt.xticks(range(1, 21))\n",
        "plt.grid(True)\n",
        "plt.show()"
      ],
      "metadata": {
        "id": "KiFIKqOU3ATe"
      },
      "execution_count": null,
      "outputs": []
    },
    {
      "cell_type": "code",
      "source": [
        "knn_classifier = KNeighborsClassifier(n_neighbors = 3)\n",
        "score=cross_val_score(knn_classifier,X,y,cv=5)"
      ],
      "metadata": {
        "id": "XhAbR2qY6YG7"
      },
      "execution_count": null,
      "outputs": []
    },
    {
      "cell_type": "code",
      "source": [
        "score.mean()"
      ],
      "metadata": {
        "colab": {
          "base_uri": "https://localhost:8080/"
        },
        "id": "oTmx267P6cvs",
        "outputId": "9d6fe7be-47c1-4dfe-b702-52e4d87e36ed"
      },
      "execution_count": null,
      "outputs": [
        {
          "output_type": "execute_result",
          "data": {
            "text/plain": [
              "0.8907317073170733"
            ]
          },
          "metadata": {},
          "execution_count": 78
        }
      ]
    },
    {
      "cell_type": "code",
      "source": [
        "from sklearn.ensemble import RandomForestClassifier"
      ],
      "metadata": {
        "id": "-dATiNJU9xAs"
      },
      "execution_count": null,
      "outputs": []
    },
    {
      "cell_type": "code",
      "source": [
        "randomforest_classifier= RandomForestClassifier(n_estimators=10)\n",
        "\n",
        "score=cross_val_score(randomforest_classifier,X,y,cv=5)"
      ],
      "metadata": {
        "id": "a2OftISN91Zr"
      },
      "execution_count": null,
      "outputs": []
    },
    {
      "cell_type": "code",
      "source": [
        "score.mean()"
      ],
      "metadata": {
        "colab": {
          "base_uri": "https://localhost:8080/"
        },
        "id": "XSqDx1dp94Ed",
        "outputId": "9145ea22-452a-405b-812a-7d7460822e09"
      },
      "execution_count": null,
      "outputs": [
        {
          "output_type": "execute_result",
          "data": {
            "text/plain": [
              "0.9902439024390244"
            ]
          },
          "metadata": {},
          "execution_count": 81
        }
      ]
    }
  ]
}